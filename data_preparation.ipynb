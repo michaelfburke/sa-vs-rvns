{
 "cells": [
  {
   "attachments": {},
   "cell_type": "markdown",
   "metadata": {},
   "source": [
    "## Loading the data"
   ]
  },
  {
   "cell_type": "code",
   "execution_count": null,
   "metadata": {},
   "outputs": [],
   "source": [
    "# import libraries\n",
    "import pandas as pd"
   ]
  },
  {
   "cell_type": "code",
   "execution_count": 3,
   "metadata": {},
   "outputs": [],
   "source": [
    "# Load data from the excel file\n",
    "file = 'data.xlsx'\n",
    "\n",
    "def load_data(file, sheet_name, flow_range, cost_range, skiprows_fm, skiprows_cm, nrows):\n",
    "    # Load flow matrix data\n",
    "    fm = pd.read_excel(file, sheet_name=sheet_name, header=None, usecols=flow_range, skiprows=skiprows_fm, nrows=nrows)\n",
    "    # Load cost matrix data\n",
    "    cm = pd.read_excel(file, sheet_name=sheet_name, header=None, usecols=cost_range, skiprows=skiprows_cm, nrows=nrows)\n",
    "    # Set the index and columns to start from 1 instead of 0\n",
    "    fm.columns = fm.index = range(1, nrows + 1)\n",
    "    cm.columns = cm.index = range(1, nrows + 1)\n",
    "    return fm.to_numpy(), cm.to_numpy()  # convert to numpy arrays\n",
    "\n",
    "# Load all datasets\n",
    "CAB_10_fm, CAB_10_cm = load_data(file, 'CAB 10 and 25Nodes', 'B:K', 'B:K', 2, 18, 10)\n",
    "CAB_25_fm, CAB_25_cm = load_data(file, 'CAB 10 and 25Nodes', 'B:Z', 'B:Z', 34, 62, 25)\n",
    "TR_55_fm, TR_55_cm = load_data(file, 'TR 55 Nodes', 'D:BF', 'D:BF', 5, 63, 55)\n",
    "TR_81_fm, TR_81_cm = load_data(file, 'TR 81 Nodes', 'D:CF', 'D:CF', 2, 86, 81)\n",
    "RGP_100_fm, RGP_100_cm = load_data(file, 'RGP 100 Nodes', 'B:CW', 'B:CW', 3, 107, 100)"
   ]
  }
 ],
 "metadata": {
  "kernelspec": {
   "display_name": "Python 3",
   "language": "python",
   "name": "python3"
  },
  "language_info": {
   "codemirror_mode": {
    "name": "ipython",
    "version": 3
   },
   "file_extension": ".py",
   "mimetype": "text/x-python",
   "name": "python",
   "nbconvert_exporter": "python",
   "pygments_lexer": "ipython3",
   "version": "3.10.4"
  },
  "orig_nbformat": 4
 },
 "nbformat": 4,
 "nbformat_minor": 2
}
